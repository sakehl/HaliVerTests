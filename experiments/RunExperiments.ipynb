{
 "cells": [
  {
   "cell_type": "markdown",
   "id": "english-driving",
   "metadata": {},
   "source": [
    "# Experiments for HaliVer"
   ]
  },
  {
   "cell_type": "code",
   "execution_count": 1,
   "id": "classified-treasure",
   "metadata": {},
   "outputs": [],
   "source": [
    "from preprocess import *\n",
    "from typing import List, Optional, Dict, Tuple, Any, Union\n",
    "import time\n",
    "import datetime"
   ]
  },
  {
   "cell_type": "code",
   "execution_count": 2,
   "id": "unsigned-salmon",
   "metadata": {},
   "outputs": [],
   "source": [
    "n = 1 # repetitions\n",
    "t = 2*60 # timeout\n",
    "load_results = False # If this is true, we do not run experiments, but only load them from file\n",
    "load_prefix = \"results/original\"\n",
    "save_prefix = \"results/\" + datetime.datetime.now().strftime('%Y-%m-%d-%H-%M')"
   ]
  },
  {
   "cell_type": "code",
   "execution_count": null,
   "id": "fddcda6e",
   "metadata": {},
   "outputs": [],
   "source": [
    "print(save_prefix)"
   ]
  },
  {
   "cell_type": "code",
   "execution_count": 13,
   "id": "9639b4b9",
   "metadata": {},
   "outputs": [],
   "source": [
    "def runCommand(command: str, verbose: bool = False, timeout: Optional[int] = None\n",
    "               , logfile: Optional[str] = None)-> Tuple[float, Result]:\n",
    "    start = time.time()\n",
    "    if(logfile):\n",
    "        with open(logfile, \"a\") as f:\n",
    "            f.write(\"==============\\n\")\n",
    "            f.write(command)\n",
    "            f.write(\"\\n==============\\n\")\n",
    "    \n",
    "    try:\n",
    "        p = subprocess.run(command, stdout=subprocess.PIPE, stderr=subprocess.PIPE, shell=True, timeout=timeout)\n",
    "    except subprocess.TimeoutExpired as to:\n",
    "        print(f\"Process was stopped after {to.timeout} seconds\")\n",
    "        if(to.stdout):\n",
    "            print(to.stdout.decode('UTF-8'))\n",
    "        end = time.time()\n",
    "        if(logfile):\n",
    "            with open(logfile, \"a\") as f:\n",
    "                f.write(to.stderr.decode('UTF-8'))\n",
    "                f.write(to.stdout.decode('UTF-8'))\n",
    "        return end - start, Result.TimeOut\n",
    "        \n",
    "    end = time.time()\n",
    "    if(logfile):\n",
    "        with open(logfile, \"a\") as f:\n",
    "            f.write(p.stderr.decode('UTF-8'))\n",
    "            f.write(p.stdout.decode('UTF-8'))\n",
    "    if(p.returncode != 0):\n",
    "        print(p.stdout.decode('UTF-8'))\n",
    "        print(f\"Return code was {p.returncode}\")\n",
    "        return end - start, Result.Fail\n",
    "    elif verbose:\n",
    "        print(p.stdout.decode('UTF-8'))\n",
    "        \n",
    "    return end - start, Result.Pass"
   ]
  },
  {
   "cell_type": "code",
   "execution_count": 15,
   "id": "5a0c384d",
   "metadata": {},
   "outputs": [
    {
     "data": {
      "text/plain": [
       "(6.552173137664795, <Result.Pass: 'pass'>)"
      ]
     },
     "execution_count": 15,
     "metadata": {},
     "output_type": "execute_result"
    }
   ],
   "source": [
    "runCommand('vct build/blur_front_pvl.pvl' ,logfile='temp.log')"
   ]
  },
  {
   "cell_type": "code",
   "execution_count": null,
   "id": "adaptive-surface",
   "metadata": {},
   "outputs": [],
   "source": [
    "versions: Dict[str, List[str]] = {\n",
    "    'blur' : ['0','1','2','3'],\n",
    "    'hist' : ['0','1','2','3'],\n",
    "    'conv_layer' : ['0','1','2','3'],\n",
    "    'gemm' : ['0','1','2','3'],\n",
    "}\n",
    "experiments = Experiments(versions, repetitions = n, timeout = t)"
   ]
  },
  {
   "cell_type": "code",
   "execution_count": null,
   "id": "6ac9d2ff",
   "metadata": {},
   "outputs": [],
   "source": [
    "from typing import List, Optional, Dict, Tuple, Any, Union\n",
    "from enum import Enum\n",
    "import subprocess\n",
    "import os\n",
    "import time\n",
    "import json"
   ]
  },
  {
   "cell_type": "markdown",
   "id": "antique-quarterly",
   "metadata": {},
   "source": [
    "## Blur"
   ]
  },
  {
   "cell_type": "code",
   "execution_count": null,
   "id": "fatal-screw",
   "metadata": {},
   "outputs": [],
   "source": [
    "name = 'blur'"
   ]
  },
  {
   "cell_type": "code",
   "execution_count": null,
   "id": "increased-nurse",
   "metadata": {},
   "outputs": [],
   "source": [
    "if(not load_results):\n",
    "    experiments.make_files(name)"
   ]
  },
  {
   "cell_type": "code",
   "execution_count": null,
   "id": "extra-kidney",
   "metadata": {},
   "outputs": [],
   "source": [
    "if(not load_results):\n",
    "    experiments.front_end(name)"
   ]
  },
  {
   "cell_type": "code",
   "execution_count": null,
   "id": "reported-formula",
   "metadata": {
    "scrolled": true
   },
   "outputs": [],
   "source": [
    "if(not load_results):\n",
    "    experiments.back_end(name)"
   ]
  },
  {
   "cell_type": "code",
   "execution_count": null,
   "id": "d924ba6f",
   "metadata": {},
   "outputs": [],
   "source": [
    "if(not load_results):\n",
    "    experiments.save_results(save_prefix, name)"
   ]
  },
  {
   "cell_type": "markdown",
   "id": "literary-following",
   "metadata": {},
   "source": [
    "## Hist"
   ]
  },
  {
   "cell_type": "code",
   "execution_count": null,
   "id": "premier-novelty",
   "metadata": {},
   "outputs": [],
   "source": [
    "name = 'hist'"
   ]
  },
  {
   "cell_type": "code",
   "execution_count": null,
   "id": "02b5bac1",
   "metadata": {},
   "outputs": [],
   "source": [
    "if(not load_results):\n",
    "    experiments.make_files(name)"
   ]
  },
  {
   "cell_type": "code",
   "execution_count": null,
   "id": "d084003e",
   "metadata": {},
   "outputs": [],
   "source": [
    "if(not load_results):\n",
    "    experiments.front_end(name)"
   ]
  },
  {
   "cell_type": "code",
   "execution_count": null,
   "id": "97f127ae",
   "metadata": {
    "scrolled": true
   },
   "outputs": [],
   "source": [
    "if(not load_results):\n",
    "    experiments.back_end(name)"
   ]
  },
  {
   "cell_type": "code",
   "execution_count": null,
   "id": "578009a5",
   "metadata": {},
   "outputs": [],
   "source": [
    "if(not load_results):\n",
    "    experiments.save_results(save_prefix, name)"
   ]
  },
  {
   "cell_type": "markdown",
   "id": "finnish-opening",
   "metadata": {},
   "source": [
    "## Conv"
   ]
  },
  {
   "cell_type": "code",
   "execution_count": null,
   "id": "personalized-principal",
   "metadata": {},
   "outputs": [],
   "source": [
    "name = 'conv_layer'"
   ]
  },
  {
   "cell_type": "code",
   "execution_count": null,
   "id": "ef84aec8",
   "metadata": {},
   "outputs": [],
   "source": [
    "if(not load_results):\n",
    "    experiments.make_files(name)"
   ]
  },
  {
   "cell_type": "code",
   "execution_count": null,
   "id": "79f7eec3",
   "metadata": {},
   "outputs": [],
   "source": [
    "if(not load_results):\n",
    "    experiments.front_end(name)"
   ]
  },
  {
   "cell_type": "code",
   "execution_count": null,
   "id": "c761cc37",
   "metadata": {
    "scrolled": true
   },
   "outputs": [],
   "source": [
    "if(not load_results):\n",
    "    experiments.back_end(name)"
   ]
  },
  {
   "cell_type": "code",
   "execution_count": null,
   "id": "c67e7661",
   "metadata": {},
   "outputs": [],
   "source": [
    "if(not load_results):\n",
    "    experiments.save_results(save_prefix, name)"
   ]
  },
  {
   "cell_type": "markdown",
   "id": "executed-blowing",
   "metadata": {
    "slideshow": {
     "slide_type": ""
    }
   },
   "source": [
    "## Gemm"
   ]
  },
  {
   "cell_type": "code",
   "execution_count": null,
   "id": "suited-argument",
   "metadata": {},
   "outputs": [],
   "source": [
    "name = 'gemm'"
   ]
  },
  {
   "cell_type": "code",
   "execution_count": null,
   "id": "0d182405",
   "metadata": {},
   "outputs": [],
   "source": [
    "if(not load_results):\n",
    "    experiments.make_files(name)"
   ]
  },
  {
   "cell_type": "code",
   "execution_count": null,
   "id": "24e9e255",
   "metadata": {},
   "outputs": [],
   "source": [
    "if(not load_results):\n",
    "    experiments.front_end(name)"
   ]
  },
  {
   "cell_type": "code",
   "execution_count": null,
   "id": "ed9b1104",
   "metadata": {
    "scrolled": true
   },
   "outputs": [],
   "source": [
    "if(not load_results):\n",
    "    experiments.back_end(name)"
   ]
  },
  {
   "cell_type": "code",
   "execution_count": null,
   "id": "dcdd200f",
   "metadata": {},
   "outputs": [],
   "source": [
    "if(not load_results):\n",
    "    experiments.save_results(save_prefix, name)"
   ]
  },
  {
   "cell_type": "markdown",
   "id": "inclusive-distinction",
   "metadata": {},
   "source": [
    "# Result table"
   ]
  },
  {
   "cell_type": "code",
   "execution_count": null,
   "id": "f40158c4",
   "metadata": {},
   "outputs": [],
   "source": [
    "if(load_results):\n",
    "    experiments.load_all_results(\"original\")"
   ]
  },
  {
   "cell_type": "code",
   "execution_count": null,
   "id": "fd82b7af",
   "metadata": {},
   "outputs": [],
   "source": [
    "directivesUsed: Dict[str, Dict[str,str]] = {'blur' : {\"1\" : \"\\{f,p\\}\", \"2\": \"\\{c,p,r,s\\}\", \"3\": \"\\{c,p,s,st\\}\"},\n",
    "       'hist' : {\"1\" : \"\\{c,p,r,u\\}\", \"2\": \"\\{c,p,r,u\\}\", \"3\": \"\\{c,cl,p,r,s,u\\}\"},\n",
    "       'conv_layer' : {\"1\" : \"\\{c,f,p,u\\}\", \"2\": \"\\{p,r,s,u\\}\", \"3\": \"\\{c,p,r,s,u\\}\"},\n",
    "       'gemm' : {\"1\" :\"\\{c,p,r,s\\}\",\"2\": \"\\{c,p,r,s,u\\}\", \"3\": \"\\{c,f,p,r,s,u\\}\" }}"
   ]
  },
  {
   "cell_type": "code",
   "execution_count": null,
   "id": "63f65782",
   "metadata": {},
   "outputs": [],
   "source": [
    "halideLoC: Dict[str, int] = {'blur': 5, 'hist': 29, 'conv_layer' : 9, 'gemm' : 18}\n",
    "halideAnn: Dict[str, int] = {'blur': 2, 'hist': 6, 'conv_layer' : 7, 'gemm' : 6}\n",
    "scheduleLoC: Dict[str, Dict[str,int]] = {'blur' : {\"1\" : 2, \"2\": 5, \"3\": 6},\n",
    "                                         'hist' : {\"1\" : 4, \"2\": 6, \"3\": 16},\n",
    "                                         'conv_layer' : {\"1\" : 4, \"2\": 6, \"3\": 15},\n",
    "                                         'gemm' : {\"1\": 8, \"2\": 19, \"3\": 23 }}"
   ]
  },
  {
   "cell_type": "code",
   "execution_count": null,
   "id": "5ab36753",
   "metadata": {},
   "outputs": [],
   "source": [
    "print(experiments.make_table(directivesUsed, halideLoC, halideAnn, scheduleLoC))"
   ]
  },
  {
   "cell_type": "code",
   "execution_count": null,
   "id": "23d77bc3",
   "metadata": {},
   "outputs": [],
   "source": [
    "experiments.save_table(directivesUsed, halideLoC, halideAnn, scheduleLoC)\n",
    "!pdflatex table.tex\n",
    "PDF('table.pdf',size=(950,500))"
   ]
  },
  {
   "cell_type": "markdown",
   "id": "d953ef88",
   "metadata": {},
   "source": [
    "# End"
   ]
  }
 ],
 "metadata": {
  "kernelspec": {
   "display_name": "Python 3 (ipykernel)",
   "language": "python",
   "name": "python3"
  },
  "language_info": {
   "codemirror_mode": {
    "name": "ipython",
    "version": 3
   },
   "file_extension": ".py",
   "mimetype": "text/x-python",
   "name": "python",
   "nbconvert_exporter": "python",
   "pygments_lexer": "ipython3",
   "version": "3.11.2"
  }
 },
 "nbformat": 4,
 "nbformat_minor": 5
}
