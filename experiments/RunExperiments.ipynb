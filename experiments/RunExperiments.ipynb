{
 "cells": [
  {
   "cell_type": "markdown",
   "id": "english-driving",
   "metadata": {},
   "source": [
    "# Experiments for HaliVer"
   ]
  },
  {
   "cell_type": "code",
   "execution_count": 1,
   "id": "classified-treasure",
   "metadata": {},
   "outputs": [],
   "source": [
    "from preprocess import *\n",
    "from typing import List, Optional, Dict, Tuple, Any, Union\n",
    "import time\n",
    "import datetime"
   ]
  },
  {
   "cell_type": "code",
   "execution_count": 2,
   "id": "unsigned-salmon",
   "metadata": {},
   "outputs": [],
   "source": [
    "n = 5 # repetitions\n",
    "t = 10*60 # timeout\n",
    "load_results = True # If this is true, we do not run experiments, but only load them from file\n",
    "load_prefix = \"results/2023-05-06-00-15\"\n",
    "save_prefix = \"results/\" + datetime.datetime.now().strftime('%Y-%m-%d-%H-%M')"
   ]
  },
  {
   "cell_type": "code",
   "execution_count": 3,
   "id": "adaptive-surface",
   "metadata": {},
   "outputs": [],
   "source": [
    "versions: Dict[str, List[str]] = {\n",
    "    'blur' : ['0','1','2','3'],\n",
    "    'hist' : ['0','1','2','3'],\n",
    "    'conv_layer' : ['0','1','2','3'],\n",
    "    'gemm' : ['0','1','2','3'],\n",
    "    'auto_viz' : ['0','1','2','3'],\n",
    "}\n",
    "experiments = Experiments(versions, repetitions = n, timeout = t)"
   ]
  },
  {
   "cell_type": "code",
   "execution_count": 4,
   "id": "6ac9d2ff",
   "metadata": {},
   "outputs": [],
   "source": [
    "from typing import List, Optional, Dict, Tuple, Any, Union\n",
    "from enum import Enum\n",
    "import subprocess\n",
    "import os\n",
    "import time\n",
    "import json"
   ]
  },
  {
   "cell_type": "markdown",
   "id": "antique-quarterly",
   "metadata": {},
   "source": [
    "## Blur"
   ]
  },
  {
   "cell_type": "code",
   "execution_count": 5,
   "id": "fatal-screw",
   "metadata": {},
   "outputs": [],
   "source": [
    "name = 'blur'"
   ]
  },
  {
   "cell_type": "code",
   "execution_count": 6,
   "id": "increased-nurse",
   "metadata": {},
   "outputs": [],
   "source": [
    "if(not load_results):\n",
    "    experiments.make_files(name)"
   ]
  },
  {
   "cell_type": "code",
   "execution_count": 7,
   "id": "extra-kidney",
   "metadata": {},
   "outputs": [],
   "source": [
    "if(not load_results):\n",
    "    experiments.front_end(name)"
   ]
  },
  {
   "cell_type": "code",
   "execution_count": 8,
   "id": "reported-formula",
   "metadata": {
    "scrolled": true
   },
   "outputs": [],
   "source": [
    "if(not load_results):\n",
    "    experiments.back_end(name)"
   ]
  },
  {
   "cell_type": "code",
   "execution_count": 9,
   "id": "d924ba6f",
   "metadata": {},
   "outputs": [],
   "source": [
    "if(not load_results):\n",
    "    experiments.save_results(save_prefix, name)"
   ]
  },
  {
   "cell_type": "markdown",
   "id": "literary-following",
   "metadata": {},
   "source": [
    "## Hist"
   ]
  },
  {
   "cell_type": "code",
   "execution_count": 10,
   "id": "premier-novelty",
   "metadata": {},
   "outputs": [],
   "source": [
    "name = 'hist'"
   ]
  },
  {
   "cell_type": "code",
   "execution_count": 11,
   "id": "02b5bac1",
   "metadata": {},
   "outputs": [],
   "source": [
    "if(not load_results):\n",
    "    experiments.make_files(name)"
   ]
  },
  {
   "cell_type": "code",
   "execution_count": 12,
   "id": "d084003e",
   "metadata": {},
   "outputs": [],
   "source": [
    "if(not load_results):\n",
    "    experiments.front_end(name)"
   ]
  },
  {
   "cell_type": "code",
   "execution_count": 13,
   "id": "97f127ae",
   "metadata": {
    "scrolled": true
   },
   "outputs": [],
   "source": [
    "if(not load_results):\n",
    "    experiments.back_end(name)"
   ]
  },
  {
   "cell_type": "code",
   "execution_count": 14,
   "id": "578009a5",
   "metadata": {},
   "outputs": [],
   "source": [
    "if(not load_results):\n",
    "    experiments.save_results(save_prefix, name)"
   ]
  },
  {
   "cell_type": "markdown",
   "id": "finnish-opening",
   "metadata": {},
   "source": [
    "## Conv"
   ]
  },
  {
   "cell_type": "code",
   "execution_count": 15,
   "id": "personalized-principal",
   "metadata": {},
   "outputs": [],
   "source": [
    "name = 'conv_layer'"
   ]
  },
  {
   "cell_type": "code",
   "execution_count": 16,
   "id": "ef84aec8",
   "metadata": {},
   "outputs": [],
   "source": [
    "if(not load_results):\n",
    "    experiments.make_files(name)"
   ]
  },
  {
   "cell_type": "code",
   "execution_count": 17,
   "id": "79f7eec3",
   "metadata": {},
   "outputs": [],
   "source": [
    "if(not load_results):\n",
    "    experiments.front_end(name)"
   ]
  },
  {
   "cell_type": "code",
   "execution_count": 18,
   "id": "c761cc37",
   "metadata": {
    "scrolled": true
   },
   "outputs": [],
   "source": [
    "if(not load_results):\n",
    "    experiments.back_end(name)"
   ]
  },
  {
   "cell_type": "code",
   "execution_count": 19,
   "id": "c67e7661",
   "metadata": {},
   "outputs": [],
   "source": [
    "if(not load_results):\n",
    "    experiments.save_results(save_prefix, name)"
   ]
  },
  {
   "cell_type": "markdown",
   "id": "executed-blowing",
   "metadata": {
    "slideshow": {
     "slide_type": ""
    }
   },
   "source": [
    "## Gemm"
   ]
  },
  {
   "cell_type": "code",
   "execution_count": 20,
   "id": "suited-argument",
   "metadata": {},
   "outputs": [],
   "source": [
    "name = 'gemm'"
   ]
  },
  {
   "cell_type": "code",
   "execution_count": 21,
   "id": "0d182405",
   "metadata": {},
   "outputs": [],
   "source": [
    "if(not load_results):\n",
    "    experiments.make_files(name)"
   ]
  },
  {
   "cell_type": "code",
   "execution_count": 22,
   "id": "24e9e255",
   "metadata": {},
   "outputs": [],
   "source": [
    "if(not load_results):\n",
    "    experiments.front_end(name)"
   ]
  },
  {
   "cell_type": "code",
   "execution_count": 23,
   "id": "ed9b1104",
   "metadata": {
    "scrolled": true
   },
   "outputs": [],
   "source": [
    "if(not load_results):\n",
    "    experiments.back_end(name)"
   ]
  },
  {
   "cell_type": "code",
   "execution_count": 24,
   "id": "b9834f1b",
   "metadata": {},
   "outputs": [],
   "source": [
    "if(not load_results):\n",
    "    experiments.save_results(save_prefix, name)"
   ]
  },
  {
   "cell_type": "markdown",
   "id": "485b6b16",
   "metadata": {
    "slideshow": {
     "slide_type": ""
    }
   },
   "source": [
    "## Auto_viz"
   ]
  },
  {
   "cell_type": "code",
   "execution_count": 25,
   "id": "26a57a74",
   "metadata": {},
   "outputs": [],
   "source": [
    "name = 'auto_viz'"
   ]
  },
  {
   "cell_type": "code",
   "execution_count": 26,
   "id": "49bddccb",
   "metadata": {},
   "outputs": [],
   "source": [
    "if(not load_results):\n",
    "    experiments.make_files(name)"
   ]
  },
  {
   "cell_type": "code",
   "execution_count": 27,
   "id": "cc357350",
   "metadata": {},
   "outputs": [],
   "source": [
    "if(not load_results):\n",
    "    experiments.front_end(name)"
   ]
  },
  {
   "cell_type": "code",
   "execution_count": 28,
   "id": "47c3f281",
   "metadata": {
    "scrolled": true
   },
   "outputs": [],
   "source": [
    "if(not load_results):\n",
    "    experiments.back_end(name)"
   ]
  },
  {
   "cell_type": "code",
   "execution_count": 29,
   "id": "dcdd200f",
   "metadata": {},
   "outputs": [],
   "source": [
    "if(not load_results):\n",
    "    experiments.save_results(save_prefix, name)"
   ]
  },
  {
   "cell_type": "markdown",
   "id": "inclusive-distinction",
   "metadata": {},
   "source": [
    "# Result table"
   ]
  },
  {
   "cell_type": "code",
   "execution_count": 30,
   "id": "f40158c4",
   "metadata": {},
   "outputs": [],
   "source": [
    "if(load_results):\n",
    "    experiments.load_all_results(load_prefix)"
   ]
  },
  {
   "cell_type": "code",
   "execution_count": 31,
   "id": "fd82b7af",
   "metadata": {},
   "outputs": [],
   "source": [
    "directivesUsed: Dict[str, Dict[str,str]] = {\n",
    "  'blur' \n",
    "   : {\"1\" : \"\\{f,p\\}\", \"2\": \"\\{c,p,r,s\\}\", \"3\": \"\\{c,p,s,st\\}\"},\n",
    "  'hist'\n",
    "   : {\"1\" : \"\\{c,p,r,u\\}\", \"2\": \"\\{c,p,r,u\\}\", \"3\": \"\\{c,p,r,s,u\\}\"},\n",
    "  'conv_layer' \n",
    "   : {\"1\" : \"\\{c,f,p,u\\}\", \"2\": \"\\{p,r,s,u\\}\", \"3\": \"\\{c,p,r,s,u\\}\"},\n",
    "  'gemm' \n",
    "   : {\"1\" :\"\\{c,p,r,s\\}\",\"2\": \"\\{c,p,r,s,u\\}\", \"3\": \"\\{c,f,p,r,s,u\\}\" },\n",
    "  'auto_viz' \n",
    "   : {\"1\" :\"\\{c\\}\",\"2\": \"\\{c,p,s\\}\", \"3\": \"\\{c,p,r,s\\}\" }}"
   ]
  },
  {
   "cell_type": "code",
   "execution_count": 32,
   "id": "63f65782",
   "metadata": {},
   "outputs": [],
   "source": [
    "halideLoC: Dict[str, int] = {\n",
    "    'blur': 5, 'hist': 29, 'conv_layer' : 9, 'gemm' : 18, 'auto_viz': 33}\n",
    "halideAnn: Dict[str, int] = {\n",
    "    'blur': 5, 'hist': 6, 'conv_layer' : 7, 'gemm' : 9, 'auto_viz': 17}\n",
    "scheduleLoC: Dict[str, Dict[str,int]] = {\n",
    "    'blur' : {\"1\" : 2, \"2\": 6, \"3\": 6},\n",
    "    'hist' : {\"1\" : 4, \"2\": 6, \"3\": 13},\n",
    "    'conv_layer' : {\"1\" : 4, \"2\": 6, \"3\": 15},\n",
    "    'gemm' : {\"1\": 8, \"2\": 19, \"3\": 24 },\n",
    "    'auto_viz' : {\"1\": 9, \"2\": 12, \"3\": 21 }}"
   ]
  },
  {
   "cell_type": "code",
   "execution_count": 33,
   "id": "5ab36753",
   "metadata": {},
   "outputs": [
    {
     "name": "stdout",
     "output_type": "stream",
     "text": [
      "\\begin{tabular}{l l \\vbar \\vbar r r \\vbar r \\vbar r \\vbar r r r r \\vbar \\vbar r}\n",
      "\\hline Name & & \\multicolumn{2}{l\\vbar}{\\halide} & \\multicolumn{1}{l\\vbar}{Fr-end} & Sched. & \\multicolumn{3}{l}{\\pvl} & & LoA \\\\\n",
      "& & LoC & LoA & T. (s) & LoC & LoC & LoA & Loops & T. (s) & incr. \\\\ \\hline \\hline\n",
      "blur & V0 & 5 & 5 & 7 & 0 & 23 &29 &2 & 14 & 5.8x\\\\ \\hline\n",
      " & V1-\\{f,p\\} & \\ditto & \\ditto & \\ditto &2 &20 &24 &1 & 24 & 4.8x\\\\ \\hline\n",
      " & V2-\\{c,p,r,s\\} & \\ditto & \\ditto & \\ditto &6 &37 &49 &6 & 59 & 9.8x\\\\ \\hline\n",
      " & V3-\\{c,p,s,st\\} & \\ditto & \\ditto & \\ditto &6 &43 &55 &7 & 41 & 11.0x\\\\ \\hline\n",
      "\\hline\n",
      "hist & V0 & 29 & 6 & 7 & 0 & 73 &68 &11 & 22 & 11.3x\\\\ \\hline\n",
      " & V1-\\{c,p,r,u\\} & \\ditto & \\ditto & \\ditto &4 &79 &69 &11 & 38 & 11.5x\\\\ \\hline\n",
      " & V2-\\{c,p,r,u\\} & \\ditto & \\ditto & \\ditto &6 &75 &75 &13 & 43 & 12.5x\\\\ \\hline\n",
      " & V3-\\{c,p,r,s,u\\} & \\ditto & \\ditto & \\ditto &13 &66 &77 &13 & 73 & 12.8x\\\\ \\hline\n",
      "\\hline\n",
      "conv\\_ & V0 & 9 & 7 & 6 & 0 & 67 &130 &7 & 35 & 18.6x\\\\ \\hline\n",
      "layer & V1-\\{c,f,p,u\\} & \\ditto & \\ditto & \\ditto &4 &70 &127 &8 & 48 & 18.1x\\\\ \\hline\n",
      " & V2-\\{p,r,s,u\\} & \\ditto & \\ditto & \\ditto &6 &79 &157 &10 & 185 & 22.4x\\\\ \\hline\n",
      " & V3-\\{c,p,r,s,u\\} & \\ditto & \\ditto & \\ditto &15 &71 &130 &7 & 153 & 18.6x\\\\ \\hline\n",
      "\\hline\n",
      "gemm & V0 & 18 & 9 & 8 & 0 & 43 &78 &3 & 22 & 8.7x\\\\ \\hline\n",
      " & V1-\\{c,p,r,s\\} & \\ditto & \\ditto & \\ditto &8 &64 &137 &10 & 242 & 15.2x\\\\ \\hline\n",
      " & V2-\\{c,p,r,s,u\\} & \\ditto & \\ditto & \\ditto &19 &121 &228 &26 &  F & 25.3x\\\\ \\hline\n",
      " & V3-\\{c,f,p,r,s,u\\} & \\ditto & \\ditto & \\ditto &24 &156 &276 &31 &  F & 30.7x\\\\ \\hline\n",
      "\\hline\n",
      "auto\\_ & V0 & 33 & 17 & 7 & 0 & 142 &213 &23 & 70 & 12.5x\\\\ \\hline\n",
      "viz & V1-\\{c\\} & \\ditto & \\ditto & \\ditto &9 &117 &174 &23 & 107 & 10.2x\\\\ \\hline\n",
      " & V2-\\{c,p,s\\} & \\ditto & \\ditto & \\ditto &12 &131 &199 &27 & 179 & 11.7x\\\\ \\hline\n",
      " & V3-\\{c,p,r,s\\} & \\ditto & \\ditto & \\ditto &21 &136 &193 &25 & 236 & 11.4x\\\\ \\hline\n",
      "\\hline\n",
      "\\end{tabular}\n"
     ]
    }
   ],
   "source": [
    "print(experiments.make_table(directivesUsed, halideLoC, halideAnn, scheduleLoC))"
   ]
  },
  {
   "cell_type": "code",
   "execution_count": 34,
   "id": "23d77bc3",
   "metadata": {},
   "outputs": [
    {
     "name": "stdout",
     "output_type": "stream",
     "text": [
      "This is pdfTeX, Version 3.141592653-2.6-1.40.24 (TeX Live 2022/Debian) (preloaded format=pdflatex)\n",
      " restricted \\write18 enabled.\n",
      "entering extended mode\n",
      "(./table.tex\n",
      "LaTeX2e <2022-11-01> patch level 1\n",
      "L3 programming layer <2023-01-16>\n",
      "(/usr/share/texlive/texmf-dist/tex/latex/base/article.cls\n",
      "Document Class: article 2022/07/02 v1.4n Standard LaTeX document class\n",
      "(/usr/share/texlive/texmf-dist/tex/latex/base/size10.clo))\n",
      "(/usr/share/texlive/texmf-dist/tex/latex/base/fontenc.sty)\n",
      "(/usr/share/texlive/texmf-dist/tex/latex/tools/xspace.sty)\n",
      "(/usr/share/texlive/texmf-dist/tex/latex/preprint/fullpage.sty)\n",
      "(/usr/share/texlive/texmf-dist/tex/latex/l3backend/l3backend-pdftex.def)\n",
      "(./table.aux) (./result_table.tex) [1{/var/lib/texmf/fonts/map/pdftex/updmap/pd\n",
      "ftex.map}] (./table.aux) ) </home/lars/.texlive2022/texmf-var/fonts/pk/ljfour/j\n",
      "knappen/ec/eccc1000.600pk> </home/lars/.texlive2022/texmf-var/fonts/pk/ljfour/j\n",
      "knappen/ec/ecrm1000.600pk>\n",
      "Output written on table.pdf (1 page, 18953 bytes).\n",
      "Transcript written on table.log.\n"
     ]
    },
    {
     "data": {
      "text/html": [
       "<iframe src=table.pdf width=950 height=500></iframe>"
      ],
      "text/plain": [
       "<preprocess.PDF at 0x7f79c89cc390>"
      ]
     },
     "execution_count": 34,
     "metadata": {},
     "output_type": "execute_result"
    }
   ],
   "source": [
    "experiments.save_table(directivesUsed, halideLoC, halideAnn, scheduleLoC)\n",
    "!pdflatex table.tex\n",
    "PDF('table.pdf',size=(950,500))"
   ]
  },
  {
   "cell_type": "markdown",
   "id": "d953ef88",
   "metadata": {},
   "source": [
    "# End"
   ]
  }
 ],
 "metadata": {
  "kernelspec": {
   "display_name": "Python 3 (ipykernel)",
   "language": "python",
   "name": "python3"
  },
  "language_info": {
   "codemirror_mode": {
    "name": "ipython",
    "version": 3
   },
   "file_extension": ".py",
   "mimetype": "text/x-python",
   "name": "python",
   "nbconvert_exporter": "python",
   "pygments_lexer": "ipython3",
   "version": "3.11.2"
  }
 },
 "nbformat": 4,
 "nbformat_minor": 5
}
